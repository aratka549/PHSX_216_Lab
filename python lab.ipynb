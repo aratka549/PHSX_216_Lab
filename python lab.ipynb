{
 "cells": [
  {
   "cell_type": "code",
   "execution_count": 22,
   "metadata": {},
   "outputs": [
    {
     "name": "stdout",
     "output_type": "stream",
     "text": [
      "Error in Q = 0.085\n",
      "Error in Q = 0.42500000000000004\n",
      "Error in Q = 0.08944271909999159\n",
      "Error in Q = 0.4577390086064329\n",
      "Error in centripital force = 0.012402034954195165\n",
      "1.1166666666666667\n",
      "0.17950549357115014\n",
      "Error in the mean is 0.029917582261858356\n"
     ]
    }
   ],
   "source": [
    "import numpy as np\n",
    "\n",
    "#rule 1\n",
    "\n",
    "def rule1(q,dA,A):\n",
    "    dQ = (abs(q)*(dA/abs(A)))\n",
    "    return dQ\n",
    "q = 8.5        \n",
    "dA = .04\n",
    "A = 4          \n",
    "error = rule1(q,dA,A)\n",
    "print('Error in Q =',error)\n",
    "\n",
    "#rule 2\n",
    "\n",
    "def rule2(q,m,dA,A):\n",
    "    dQ = (abs(q))*(abs(m)*(dA/abs(A)))\n",
    "    return dQ\n",
    "\n",
    "q = 8.5\n",
    "m = 5\n",
    "dA = .04\n",
    "A = 4\n",
    "error = rule2(q,m,dA,A)\n",
    "\n",
    "print('Error in Q =',error)\n",
    "\n",
    "#rule 3\n",
    "\n",
    "def rule3(dA,dB):\n",
    "    dQ = np.sqrt(dA**2+dB**2)\n",
    "    return dQ\n",
    "\n",
    "dA = .04\n",
    "dB = .08\n",
    "\n",
    "error = rule3(dA,dB)\n",
    "print('Error in Q =',error)\n",
    "\n",
    "#rule 4\n",
    "\n",
    "def rule4(q,m,dA,A,n,dB,B):\n",
    "    dQ = abs(q)*np.sqrt(((m*(dA/A))**2)+((n*(dB/B))**2))\n",
    "    return dQ\n",
    "\n",
    "q = 8.5\n",
    "m = 5\n",
    "dA = .04\n",
    "A = 4\n",
    "n = 2\n",
    "dB = .09\n",
    "B = 9\n",
    "\n",
    "error = rule4(q,m,dA,A,n,dB,B)\n",
    "print('Error in Q =',error)\n",
    "\n",
    "#uncertainty in centripital force from last weeks lab\n",
    "\n",
    "def rule4(q,m,dA,A,n,dB,B):\n",
    "    dQ = abs(q)*np.sqrt(((m*(dA/A))**2)+((n*(dB/B))**2))\n",
    "    return dQ\n",
    "\n",
    "q = 0.798\n",
    "m = 1\n",
    "dA = 0.0001\n",
    "A = 0.2083\n",
    "n = 1\n",
    "dB = 0.16\n",
    "B = 10.3\n",
    "\n",
    "error = rule4(q,m,dA,A,n,dB,B)\n",
    "print('Error in centripital force =',error)\n",
    "\n",
    "#These results ^ match my results from last weeks lab without rounding\n",
    "\n",
    "#calculating mean,standard deviation and error in the mean\n",
    "\n",
    "x = np.array([1.1,1.3,1.4,0.9,0.95,1.05])\n",
    "\n",
    "error_mean = (np.std(x)/len(x))\n",
    "\n",
    "print(np.average(x))\n",
    "print(np.std(x))\n",
    "print('Error in the mean is',error_mean)\n",
    "\n"
   ]
  },
  {
   "cell_type": "markdown",
   "metadata": {},
   "source": [
    "rule 3:  $\\delta Q = \\sqrt{(\\delta A)^2 + (\\delta B)^2}$"
   ]
  },
  {
   "cell_type": "markdown",
   "metadata": {},
   "source": [
    "$\\delta 0.012 = (0.798)*\\sqrt{(0.0001/0.2083)^2 + (0.16/10.3)^2}$"
   ]
  }
 ],
 "metadata": {
  "kernelspec": {
   "display_name": "Python 3",
   "language": "python",
   "name": "python3"
  },
  "language_info": {
   "codemirror_mode": {
    "name": "ipython",
    "version": 3
   },
   "file_extension": ".py",
   "mimetype": "text/x-python",
   "name": "python",
   "nbconvert_exporter": "python",
   "pygments_lexer": "ipython3",
   "version": "3.8.3"
  }
 },
 "nbformat": 4,
 "nbformat_minor": 4
}
